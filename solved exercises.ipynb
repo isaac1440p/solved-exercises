{
 "cells": [
  {
   "cell_type": "code",
   "execution_count": 1,
   "id": "4505d6fb-a4b8-4286-a6c0-5c00ef6868c2",
   "metadata": {},
   "outputs": [
    {
     "name": "stdout",
     "output_type": "stream",
     "text": [
      "Person Information: {'name': 'Ishaq Hameed', 'age': 18, 'city': 'lahore', 'hobbies': 'running'}\n"
     ]
    }
   ],
   "source": [
    "person = {\n",
    "    'name':'Ishaq Hameed',\n",
    "    'age':18,\n",
    "    'city':'lahore',\n",
    "    'hobbies':'running'\n",
    "}\n",
    "print(\"Person Information:\", person)"
   ]
  },
  {
   "cell_type": "code",
   "execution_count": 3,
   "id": "e78350dd-bd9b-4d5d-b011-963c471dbbaf",
   "metadata": {},
   "outputs": [
    {
     "name": "stdout",
     "output_type": "stream",
     "text": [
      "Word Frequencies: {'this': 2, 'is': 2, 'a': 2, 'test': 3, 'only': 1}\n"
     ]
    }
   ],
   "source": [
    "text = \"This is a test. This test is only a test.\"\n",
    "\n",
    "import string\n",
    "text_clean = text.translate(str.maketrans('', '', string.punctuation)).lower()\n",
    "\n",
    "words = text_clean.split()\n",
    "\n",
    "word_count = {}\n",
    "for word in words:\n",
    "    word_count[word] = word_count.get(word, 0) + 1\n",
    "\n",
    "# Display the word frequency\n",
    "print(\"Word Frequencies:\", word_count)"
   ]
  },
  {
   "cell_type": "code",
   "execution_count": 5,
   "id": "fb724955-b10c-4f62-b8c4-26bd2a117242",
   "metadata": {},
   "outputs": [
    {
     "name": "stdout",
     "output_type": "stream",
     "text": [
      "Updated Inventory: {'apples': 15, 'bananas': 10, 'oranges': 20, 'grapes': 10}\n"
     ]
    }
   ],
   "source": [
    "inventory = {\n",
    "    \"apples\": 10,\n",
    "    \"bananas\": 15,\n",
    "    \"oranges\": 20\n",
    "}\n",
    "\n",
    "def add_item(item, quantity):\n",
    "    inventory[item] = inventory.get(item, 0) + quantity\n",
    "\n",
    "def remove_item(item, quantity):\n",
    "    if item in inventory:\n",
    "        inventory[item] = max(0, inventory[item] - quantity)\n",
    "\n",
    "add_item(\"apples\", 5)\n",
    "remove_item(\"bananas\", 5)\n",
    "add_item(\"grapes\", 10)\n",
    "\n",
    "print(\"Updated Inventory:\", inventory)"
   ]
  },
  {
   "cell_type": "code",
   "execution_count": 7,
   "id": "870c8b93-d05a-43dc-ba87-0a250100db13",
   "metadata": {},
   "outputs": [
    {
     "name": "stdout",
     "output_type": "stream",
     "text": [
      "Category Counts: {'Electronics': 3, 'Clothing': 2}\n",
      "Most Popular Category: Electronics\n"
     ]
    }
   ],
   "source": [
    "orders = [\n",
    "    {\"product\": \"Laptop\", \"category\": \"Electronics\"},\n",
    "    {\"product\": \"Phone\", \"category\": \"Electronics\"},\n",
    "    {\"product\": \"Shirt\", \"category\": \"Clothing\"},\n",
    "    {\"product\": \"Pants\", \"category\": \"Clothing\"},\n",
    "    {\"product\": \"Phone\", \"category\": \"Electronics\"}\n",
    "]\n",
    "\n",
    "category_count = {}\n",
    "for order in orders:\n",
    "    category = order[\"category\"]\n",
    "    category_count[category] = category_count.get(category, 0) + 1\n",
    "\n",
    "most_popular = max(category_count, key=category_count.get)\n",
    "\n",
    "print(\"Category Counts:\", category_count)\n",
    "print(\"Most Popular Category:\", most_popular)"
   ]
  },
  {
   "cell_type": "code",
   "execution_count": 9,
   "id": "94cbbc0a-3eef-46ce-ab8d-c9629de7bb94",
   "metadata": {},
   "outputs": [
    {
     "name": "stdout",
     "output_type": "stream",
     "text": [
      "Student Grades: {'Alice': 85, 'Bob': 78, 'Charlie': 92, 'Diana': 88}\n",
      "Average Grade: 85.75\n"
     ]
    }
   ],
   "source": [
    "grades = {\n",
    "    \"Alice\": 85,\n",
    "    \"Bob\": 78,\n",
    "    \"Charlie\": 92,\n",
    "    \"Diana\": 88\n",
    "}\n",
    "\n",
    "average_grade = sum(grades.values()) / len(grades)\n",
    "\n",
    "print(\"Student Grades:\", grades)\n",
    "print(\"Average Grade:\", average_grade)"
   ]
  },
  {
   "cell_type": "code",
   "execution_count": 23,
   "id": "e1d2e363-2751-457a-b70f-11e751c49aa8",
   "metadata": {},
   "outputs": [
    {
     "name": "stdout",
     "output_type": "stream",
     "text": [
      "Product 'Laptop' added successfully!\n",
      "Product 'Mouse' added successfully!\n",
      "Product 'Keyboard' added successfully!\n",
      "Product 'Monitor' added successfully!\n",
      "Updated quantity for Keyboard to 5.\n",
      "Product ID P005 does not exist.\n",
      "\n",
      "Total Inventory Value: 9750\n",
      "Low-stock Items:\n",
      "ID: P004, Name: Monitor, Quantity: 4\n"
     ]
    }
   ],
   "source": [
    "inventory = {}\n",
    "\n",
    "# Function to add a new product\n",
    "def add_product(product_id, name, quantity, price):\n",
    "    if product_id in inventory:\n",
    "        print(f\"Product ID {product_id} already exists. Use update_product to modify it.\")\n",
    "    else:\n",
    "        inventory[product_id] = {\"name\": name, \"quantity\": quantity, \"price\": price}\n",
    "        print(f\"Product '{name}' added successfully!\")\n",
    "\n",
    "# Function to update product quantity\n",
    "def update_product(product_id, quantity):\n",
    "    if product_id in inventory:\n",
    "        inventory[product_id][\"quantity\"] += quantity\n",
    "        print(f\"Updated quantity for {inventory[product_id]['name']} to {inventory[product_id]['quantity']}.\")\n",
    "    else:\n",
    "        print(f\"Product ID {product_id} does not exist.\")\n",
    "\n",
    "# Function to calculate total inventory value\n",
    "def calculate_inventory_value():\n",
    "    total_value = 0\n",
    "    for product in inventory.values():\n",
    "        total_value += product[\"quantity\"] * product[\"price\"]\n",
    "    return total_value\n",
    "\n",
    "# Function to generate a report of low-stock items\n",
    "def low_stock_report(threshold=5):\n",
    "    low_stock_items = {pid: info for pid, info in inventory.items() if info[\"quantity\"] < threshold}\n",
    "    if low_stock_items:\n",
    "        print(\"Low-stock Items:\")\n",
    "        for pid, info in low_stock_items.items():\n",
    "            print(f\"ID: {pid}, Name: {info['name']}, Quantity: {info['quantity']}\")\n",
    "    else:\n",
    "        print(\"No low-stock items.\")\n",
    "\n",
    "# Example usage\n",
    "add_product(\"P001\", \"Laptop\", 10, 800)\n",
    "add_product(\"P002\", \"Mouse\", 50, 20)\n",
    "add_product(\"P003\", \"Keyboard\", 2, 30)\n",
    "add_product(\"P004\", \"Monitor\", 4, 150)\n",
    "\n",
    "update_product(\"P003\", 3) \n",
    "update_product(\"P005\", 5)  \n",
    "\n",
    "print(\"\\nTotal Inventory Value:\", calculate_inventory_value())\n",
    "\n",
    "low_stock_report(threshold=5) "
   ]
  },
  {
   "cell_type": "code",
   "execution_count": 25,
   "id": "466d13f3-674e-4331-aa83-9a2d290f0e70",
   "metadata": {},
   "outputs": [
    {
     "name": "stdout",
     "output_type": "stream",
     "text": [
      "Average Grades: {'Ishaq': 85.0, 'Abdullah': 84.33333333333333, 'Ali': 78.33333333333333, 'Ahmed': 91.66666666666667}\n",
      "Highest in Math: ('Ahmed', 95)\n",
      "Lowest in Math: ('Ali', 70)\n",
      "Students Sorted by Average Grades: [('Ahmed', 91.66666666666667), ('Ishaq', 85.0), ('Abdullah', 84.33333333333333), ('Ali', 78.33333333333333)]\n"
     ]
    }
   ],
   "source": [
    "gradebook = {\n",
    "    \"Ishaq\": {\"Math\": 85, \"English\": 78, \"Science\": 92},\n",
    "    \"Abdullah\": {\"Math\": 90, \"English\": 88, \"Science\": 75},\n",
    "    \"Ali\": {\"Math\": 70, \"English\": 85, \"Science\": 80},\n",
    "    \"Ahmed\": {\"Math\": 95, \"English\": 92, \"Science\": 88}\n",
    "}\n",
    "\n",
    "def calculate_average_grades(gradebook):\n",
    "    averages = {}\n",
    "    for student, subjects in gradebook.items():\n",
    "        averages[student] = sum(subjects.values()) / len(subjects)\n",
    "    return averages\n",
    "\n",
    "# Function to find the highest and lowest grades in a specific subject\n",
    "def highest_lowest_in_subject(gradebook, subject):\n",
    "    grades = {student: subjects.get(subject, None) for student, subjects in gradebook.items()}\n",
    "    valid_grades = {student: grade for student, grade in grades.items() if grade is not None}\n",
    "    if not valid_grades:\n",
    "        return None, None\n",
    "    highest = max(valid_grades.items(), key=lambda x: x[1])\n",
    "    lowest = min(valid_grades.items(), key=lambda x: x[1])\n",
    "    return highest, lowest\n",
    "\n",
    "# Function to sort students by their average grades\n",
    "def sort_by_average(gradebook):\n",
    "    averages = calculate_average_grades(gradebook)\n",
    "    sorted_students = sorted(averages.items(), key=lambda x: x[1], reverse=True)\n",
    "    return sorted_students\n",
    "\n",
    "# Example Usage\n",
    "# a) Calculate average grades\n",
    "average_grades = calculate_average_grades(gradebook)\n",
    "print(\"Average Grades:\", average_grades)\n",
    "\n",
    "# b) Find the highest and lowest grades in \"Math\"\n",
    "highest, lowest = highest_lowest_in_subject(gradebook, \"Math\")\n",
    "print(f\"Highest in Math: {highest}\")\n",
    "print(f\"Lowest in Math: {lowest}\")\n",
    "\n",
    "# c) Sort students by average grades\n",
    "sorted_students = sort_by_average(gradebook)\n",
    "print(\"Students Sorted by Average Grades:\", sorted_students)"
   ]
  },
  {
   "cell_type": "code",
   "execution_count": 27,
   "id": "8865ee46-1b00-4a5f-bddc-2a9c8f2e23fb",
   "metadata": {},
   "outputs": [
    {
     "name": "stdout",
     "output_type": "stream",
     "text": [
      "Added 1 x Laptop to the cart.\n",
      "Added 2 x Mouse to the cart.\n",
      "Added 5 x Keyboard to the cart.\n",
      "Removed 2 x Keyboard from the cart.\n",
      "\n",
      "Shopping Cart:\n",
      "Laptop (x1) - $800 each\n",
      "Mouse (x2) - $20 each\n",
      "Keyboard (x3) - $30 each\n",
      "Total Cost: $930.00\n",
      "\n",
      "Total Cost: $930.00\n",
      "Discount: $93.00\n",
      "Tax: $66.96\n",
      "Final Cost after Discounts and Taxes: $903.96\n"
     ]
    }
   ],
   "source": [
    "store = {\n",
    "    \"P001\": {\"name\": \"Laptop\", \"price\": 800, \"quantity\": 10},\n",
    "    \"P002\": {\"name\": \"Mouse\", \"price\": 20, \"quantity\": 50},\n",
    "    \"P003\": {\"name\": \"Keyboard\", \"price\": 30, \"quantity\": 30},\n",
    "    \"P004\": {\"name\": \"Monitor\", \"price\": 150, \"quantity\": 20}\n",
    "}\n",
    "\n",
    "cart = {}\n",
    "\n",
    "def add_to_cart(product_id, quantity):\n",
    "    if product_id in store:\n",
    "        if store[product_id][\"quantity\"] >= quantity:\n",
    "            cart[product_id] = cart.get(product_id, 0) + quantity\n",
    "            store[product_id][\"quantity\"] -= quantity\n",
    "            print(f\"Added {quantity} x {store[product_id]['name']} to the cart.\")\n",
    "        else:\n",
    "            print(f\"Only {store[product_id]['quantity']} items left in stock.\")\n",
    "    else:\n",
    "        print(\"Product ID not found.\")\n",
    "\n",
    "def remove_from_cart(product_id, quantity):\n",
    "    if product_id in cart:\n",
    "        if cart[product_id] >= quantity:\n",
    "            cart[product_id] -= quantity\n",
    "            store[product_id][\"quantity\"] += quantity\n",
    "            if cart[product_id] == 0:\n",
    "                del cart[product_id]\n",
    "            print(f\"Removed {quantity} x {store[product_id]['name']} from the cart.\")\n",
    "        else:\n",
    "            print(f\"You only have {cart[product_id]} items in the cart.\")\n",
    "    else:\n",
    "        print(\"Product not in cart.\")\n",
    "\n",
    "def calculate_total_cost(cart):\n",
    "    total_cost = 0\n",
    "    for product_id, quantity in cart.items():\n",
    "        total_cost += store[product_id][\"price\"] * quantity\n",
    "    return total_cost\n",
    "\n",
    "def apply_discounts_and_taxes(total_cost, discount_rate=0.1, tax_rate=0.08):\n",
    "    discount = total_cost * discount_rate\n",
    "    tax = (total_cost - discount) * tax_rate\n",
    "    final_cost = total_cost - discount + tax\n",
    "    return final_cost, discount, tax\n",
    "\n",
    "def display_cart():\n",
    "    if not cart:\n",
    "        print(\"Your cart is empty.\")\n",
    "    else:\n",
    "        print(\"\\nShopping Cart:\")\n",
    "        for product_id, quantity in cart.items():\n",
    "            product = store[product_id]\n",
    "            print(f\"{product['name']} (x{quantity}) - ${product['price']} each\")\n",
    "        print(f\"Total Cost: ${calculate_total_cost(cart):.2f}\")\n",
    "\n",
    "# Example Usage\n",
    "add_to_cart(\"P001\", 1)  \n",
    "add_to_cart(\"P002\", 2)  \n",
    "add_to_cart(\"P003\", 5)  \n",
    "remove_from_cart(\"P003\", 2)  \n",
    "\n",
    "display_cart()\n",
    "\n",
    "total_cost = calculate_total_cost(cart)\n",
    "final_cost, discount, tax = apply_discounts_and_taxes(total_cost)\n",
    "\n",
    "print(f\"\\nTotal Cost: ${total_cost:.2f}\")\n",
    "print(f\"Discount: ${discount:.2f}\")\n",
    "print(f\"Tax: ${tax:.2f}\")\n",
    "print(f\"Final Cost after Discounts and Taxes: ${final_cost:.2f}\")"
   ]
  },
  {
   "cell_type": "code",
   "execution_count": null,
   "id": "d2d0284b-eb4a-413d-980e-a63431c3d473",
   "metadata": {},
   "outputs": [],
   "source": []
  }
 ],
 "metadata": {
  "kernelspec": {
   "display_name": "Python 3 (ipykernel)",
   "language": "python",
   "name": "python3"
  },
  "language_info": {
   "codemirror_mode": {
    "name": "ipython",
    "version": 3
   },
   "file_extension": ".py",
   "mimetype": "text/x-python",
   "name": "python",
   "nbconvert_exporter": "python",
   "pygments_lexer": "ipython3",
   "version": "3.12.4"
  }
 },
 "nbformat": 4,
 "nbformat_minor": 5
}
